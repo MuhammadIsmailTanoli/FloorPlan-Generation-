{
 "cells": [
  {
   "cell_type": "code",
   "execution_count": 5,
   "id": "f14a3715",
   "metadata": {},
   "outputs": [
    {
     "ename": "RuntimeError",
     "evalue": "Failed to import diffusers.pipelines.auto_pipeline because of the following error (look up to see its traceback):\nNo module named 'triton.ops'",
     "output_type": "error",
     "traceback": [
      "\u001b[0;31m---------------------------------------------------------------------------\u001b[0m",
      "\u001b[0;31mModuleNotFoundError\u001b[0m                       Traceback (most recent call last)",
      "\u001b[0;32m~/.local/lib/python3.10/site-packages/diffusers/utils/import_utils.py\u001b[0m in \u001b[0;36m_get_module\u001b[0;34m(self, module_name)\u001b[0m\n\u001b[1;32m    952\u001b[0m         \u001b[0;32mtry\u001b[0m\u001b[0;34m:\u001b[0m\u001b[0;34m\u001b[0m\u001b[0;34m\u001b[0m\u001b[0m\n\u001b[0;32m--> 953\u001b[0;31m             \u001b[0;32mreturn\u001b[0m \u001b[0mimportlib\u001b[0m\u001b[0;34m.\u001b[0m\u001b[0mimport_module\u001b[0m\u001b[0;34m(\u001b[0m\u001b[0;34m\".\"\u001b[0m \u001b[0;34m+\u001b[0m \u001b[0mmodule_name\u001b[0m\u001b[0;34m,\u001b[0m \u001b[0mself\u001b[0m\u001b[0;34m.\u001b[0m\u001b[0m__name__\u001b[0m\u001b[0;34m)\u001b[0m\u001b[0;34m\u001b[0m\u001b[0;34m\u001b[0m\u001b[0m\n\u001b[0m\u001b[1;32m    954\u001b[0m         \u001b[0;32mexcept\u001b[0m \u001b[0mException\u001b[0m \u001b[0;32mas\u001b[0m \u001b[0me\u001b[0m\u001b[0;34m:\u001b[0m\u001b[0;34m\u001b[0m\u001b[0;34m\u001b[0m\u001b[0m\n",
      "\u001b[0;32m/usr/lib/python3.10/importlib/__init__.py\u001b[0m in \u001b[0;36mimport_module\u001b[0;34m(name, package)\u001b[0m\n\u001b[1;32m    125\u001b[0m             \u001b[0mlevel\u001b[0m \u001b[0;34m+=\u001b[0m \u001b[0;36m1\u001b[0m\u001b[0;34m\u001b[0m\u001b[0;34m\u001b[0m\u001b[0m\n\u001b[0;32m--> 126\u001b[0;31m     \u001b[0;32mreturn\u001b[0m \u001b[0m_bootstrap\u001b[0m\u001b[0;34m.\u001b[0m\u001b[0m_gcd_import\u001b[0m\u001b[0;34m(\u001b[0m\u001b[0mname\u001b[0m\u001b[0;34m[\u001b[0m\u001b[0mlevel\u001b[0m\u001b[0;34m:\u001b[0m\u001b[0;34m]\u001b[0m\u001b[0;34m,\u001b[0m \u001b[0mpackage\u001b[0m\u001b[0;34m,\u001b[0m \u001b[0mlevel\u001b[0m\u001b[0;34m)\u001b[0m\u001b[0;34m\u001b[0m\u001b[0;34m\u001b[0m\u001b[0m\n\u001b[0m\u001b[1;32m    127\u001b[0m \u001b[0;34m\u001b[0m\u001b[0m\n",
      "\u001b[0;32m/usr/lib/python3.10/importlib/_bootstrap.py\u001b[0m in \u001b[0;36m_gcd_import\u001b[0;34m(name, package, level)\u001b[0m\n",
      "\u001b[0;32m/usr/lib/python3.10/importlib/_bootstrap.py\u001b[0m in \u001b[0;36m_find_and_load\u001b[0;34m(name, import_)\u001b[0m\n",
      "\u001b[0;32m/usr/lib/python3.10/importlib/_bootstrap.py\u001b[0m in \u001b[0;36m_find_and_load_unlocked\u001b[0;34m(name, import_)\u001b[0m\n",
      "\u001b[0;32m/usr/lib/python3.10/importlib/_bootstrap.py\u001b[0m in \u001b[0;36m_load_unlocked\u001b[0;34m(spec)\u001b[0m\n",
      "\u001b[0;32m/usr/lib/python3.10/importlib/_bootstrap_external.py\u001b[0m in \u001b[0;36mexec_module\u001b[0;34m(self, module)\u001b[0m\n",
      "\u001b[0;32m/usr/lib/python3.10/importlib/_bootstrap.py\u001b[0m in \u001b[0;36m_call_with_frames_removed\u001b[0;34m(f, *args, **kwds)\u001b[0m\n",
      "\u001b[0;32m~/.local/lib/python3.10/site-packages/diffusers/pipelines/auto_pipeline.py\u001b[0m in \u001b[0;36m<module>\u001b[0;34m\u001b[0m\n\u001b[1;32m     20\u001b[0m \u001b[0;32mfrom\u001b[0m \u001b[0;34m.\u001b[0m\u001b[0;34m.\u001b[0m\u001b[0mconfiguration_utils\u001b[0m \u001b[0;32mimport\u001b[0m \u001b[0mConfigMixin\u001b[0m\u001b[0;34m\u001b[0m\u001b[0;34m\u001b[0m\u001b[0m\n\u001b[0;32m---> 21\u001b[0;31m \u001b[0;32mfrom\u001b[0m \u001b[0;34m.\u001b[0m\u001b[0;34m.\u001b[0m\u001b[0mmodels\u001b[0m\u001b[0;34m.\u001b[0m\u001b[0mcontrolnets\u001b[0m \u001b[0;32mimport\u001b[0m \u001b[0mControlNetUnionModel\u001b[0m\u001b[0;34m\u001b[0m\u001b[0;34m\u001b[0m\u001b[0m\n\u001b[0m\u001b[1;32m     22\u001b[0m \u001b[0;32mfrom\u001b[0m \u001b[0;34m.\u001b[0m\u001b[0;34m.\u001b[0m\u001b[0mutils\u001b[0m \u001b[0;32mimport\u001b[0m \u001b[0mis_sentencepiece_available\u001b[0m\u001b[0;34m\u001b[0m\u001b[0;34m\u001b[0m\u001b[0m\n",
      "\u001b[0;32m~/.local/lib/python3.10/site-packages/diffusers/models/controlnets/__init__.py\u001b[0m in \u001b[0;36m<module>\u001b[0;34m\u001b[0m\n\u001b[1;32m      4\u001b[0m \u001b[0;32mif\u001b[0m \u001b[0mis_torch_available\u001b[0m\u001b[0;34m(\u001b[0m\u001b[0;34m)\u001b[0m\u001b[0;34m:\u001b[0m\u001b[0;34m\u001b[0m\u001b[0;34m\u001b[0m\u001b[0m\n\u001b[0;32m----> 5\u001b[0;31m     \u001b[0;32mfrom\u001b[0m \u001b[0;34m.\u001b[0m\u001b[0mcontrolnet\u001b[0m \u001b[0;32mimport\u001b[0m \u001b[0mControlNetModel\u001b[0m\u001b[0;34m,\u001b[0m \u001b[0mControlNetOutput\u001b[0m\u001b[0;34m\u001b[0m\u001b[0;34m\u001b[0m\u001b[0m\n\u001b[0m\u001b[1;32m      6\u001b[0m     \u001b[0;32mfrom\u001b[0m \u001b[0;34m.\u001b[0m\u001b[0mcontrolnet_flux\u001b[0m \u001b[0;32mimport\u001b[0m \u001b[0mFluxControlNetModel\u001b[0m\u001b[0;34m,\u001b[0m \u001b[0mFluxControlNetOutput\u001b[0m\u001b[0;34m,\u001b[0m \u001b[0mFluxMultiControlNetModel\u001b[0m\u001b[0;34m\u001b[0m\u001b[0;34m\u001b[0m\u001b[0m\n",
      "\u001b[0;32m~/.local/lib/python3.10/site-packages/diffusers/models/controlnets/controlnet.py\u001b[0m in \u001b[0;36m<module>\u001b[0;34m\u001b[0m\n\u001b[1;32m     21\u001b[0m \u001b[0;32mfrom\u001b[0m \u001b[0;34m...\u001b[0m\u001b[0mconfiguration_utils\u001b[0m \u001b[0;32mimport\u001b[0m \u001b[0mConfigMixin\u001b[0m\u001b[0;34m,\u001b[0m \u001b[0mregister_to_config\u001b[0m\u001b[0;34m\u001b[0m\u001b[0;34m\u001b[0m\u001b[0m\n\u001b[0;32m---> 22\u001b[0;31m \u001b[0;32mfrom\u001b[0m \u001b[0;34m...\u001b[0m\u001b[0mloaders\u001b[0m\u001b[0;34m.\u001b[0m\u001b[0msingle_file_model\u001b[0m \u001b[0;32mimport\u001b[0m \u001b[0mFromOriginalModelMixin\u001b[0m\u001b[0;34m\u001b[0m\u001b[0;34m\u001b[0m\u001b[0m\n\u001b[0m\u001b[1;32m     23\u001b[0m \u001b[0;32mfrom\u001b[0m \u001b[0;34m...\u001b[0m\u001b[0mutils\u001b[0m \u001b[0;32mimport\u001b[0m \u001b[0mBaseOutput\u001b[0m\u001b[0;34m,\u001b[0m \u001b[0mlogging\u001b[0m\u001b[0;34m\u001b[0m\u001b[0;34m\u001b[0m\u001b[0m\n",
      "\u001b[0;32m~/.local/lib/python3.10/site-packages/diffusers/loaders/single_file_model.py\u001b[0m in \u001b[0;36m<module>\u001b[0;34m\u001b[0m\n\u001b[1;32m     24\u001b[0m \u001b[0;32mfrom\u001b[0m \u001b[0;34m.\u001b[0m\u001b[0;34m.\u001b[0m \u001b[0;32mimport\u001b[0m \u001b[0m__version__\u001b[0m\u001b[0;34m\u001b[0m\u001b[0;34m\u001b[0m\u001b[0m\n\u001b[0;32m---> 25\u001b[0;31m \u001b[0;32mfrom\u001b[0m \u001b[0;34m.\u001b[0m\u001b[0;34m.\u001b[0m\u001b[0mquantizers\u001b[0m \u001b[0;32mimport\u001b[0m \u001b[0mDiffusersAutoQuantizer\u001b[0m\u001b[0;34m\u001b[0m\u001b[0;34m\u001b[0m\u001b[0m\n\u001b[0m\u001b[1;32m     26\u001b[0m \u001b[0;32mfrom\u001b[0m \u001b[0;34m.\u001b[0m\u001b[0;34m.\u001b[0m\u001b[0mutils\u001b[0m \u001b[0;32mimport\u001b[0m \u001b[0mdeprecate\u001b[0m\u001b[0;34m,\u001b[0m \u001b[0mis_accelerate_available\u001b[0m\u001b[0;34m,\u001b[0m \u001b[0mis_torch_version\u001b[0m\u001b[0;34m,\u001b[0m \u001b[0mlogging\u001b[0m\u001b[0;34m\u001b[0m\u001b[0;34m\u001b[0m\u001b[0m\n",
      "\u001b[0;32m~/.local/lib/python3.10/site-packages/diffusers/quantizers/__init__.py\u001b[0m in \u001b[0;36m<module>\u001b[0;34m\u001b[0m\n\u001b[1;32m     15\u001b[0m \u001b[0;34m\u001b[0m\u001b[0m\n\u001b[0;32m---> 16\u001b[0;31m \u001b[0;32mfrom\u001b[0m \u001b[0;34m.\u001b[0m\u001b[0mauto\u001b[0m \u001b[0;32mimport\u001b[0m \u001b[0mDiffusersAutoQuantizer\u001b[0m\u001b[0;34m\u001b[0m\u001b[0;34m\u001b[0m\u001b[0m\n\u001b[0m\u001b[1;32m     17\u001b[0m \u001b[0;32mfrom\u001b[0m \u001b[0;34m.\u001b[0m\u001b[0mbase\u001b[0m \u001b[0;32mimport\u001b[0m \u001b[0mDiffusersQuantizer\u001b[0m\u001b[0;34m\u001b[0m\u001b[0;34m\u001b[0m\u001b[0m\n",
      "\u001b[0;32m~/.local/lib/python3.10/site-packages/diffusers/quantizers/auto.py\u001b[0m in \u001b[0;36m<module>\u001b[0;34m\u001b[0m\n\u001b[1;32m     21\u001b[0m \u001b[0;34m\u001b[0m\u001b[0m\n\u001b[0;32m---> 22\u001b[0;31m \u001b[0;32mfrom\u001b[0m \u001b[0;34m.\u001b[0m\u001b[0mbitsandbytes\u001b[0m \u001b[0;32mimport\u001b[0m \u001b[0mBnB4BitDiffusersQuantizer\u001b[0m\u001b[0;34m,\u001b[0m \u001b[0mBnB8BitDiffusersQuantizer\u001b[0m\u001b[0;34m\u001b[0m\u001b[0;34m\u001b[0m\u001b[0m\n\u001b[0m\u001b[1;32m     23\u001b[0m \u001b[0;32mfrom\u001b[0m \u001b[0;34m.\u001b[0m\u001b[0mgguf\u001b[0m \u001b[0;32mimport\u001b[0m \u001b[0mGGUFQuantizer\u001b[0m\u001b[0;34m\u001b[0m\u001b[0;34m\u001b[0m\u001b[0m\n",
      "\u001b[0;32m~/.local/lib/python3.10/site-packages/diffusers/quantizers/bitsandbytes/__init__.py\u001b[0m in \u001b[0;36m<module>\u001b[0;34m\u001b[0m\n\u001b[1;32m      1\u001b[0m \u001b[0;32mfrom\u001b[0m \u001b[0;34m.\u001b[0m\u001b[0mbnb_quantizer\u001b[0m \u001b[0;32mimport\u001b[0m \u001b[0mBnB4BitDiffusersQuantizer\u001b[0m\u001b[0;34m,\u001b[0m \u001b[0mBnB8BitDiffusersQuantizer\u001b[0m\u001b[0;34m\u001b[0m\u001b[0;34m\u001b[0m\u001b[0m\n\u001b[0;32m----> 2\u001b[0;31m \u001b[0;32mfrom\u001b[0m \u001b[0;34m.\u001b[0m\u001b[0mutils\u001b[0m \u001b[0;32mimport\u001b[0m \u001b[0mdequantize_and_replace\u001b[0m\u001b[0;34m,\u001b[0m \u001b[0mdequantize_bnb_weight\u001b[0m\u001b[0;34m,\u001b[0m \u001b[0mreplace_with_bnb_linear\u001b[0m\u001b[0;34m\u001b[0m\u001b[0;34m\u001b[0m\u001b[0m\n\u001b[0m",
      "\u001b[0;32m~/.local/lib/python3.10/site-packages/diffusers/quantizers/bitsandbytes/utils.py\u001b[0m in \u001b[0;36m<module>\u001b[0;34m\u001b[0m\n\u001b[1;32m     31\u001b[0m \u001b[0;32mif\u001b[0m \u001b[0mis_bitsandbytes_available\u001b[0m\u001b[0;34m(\u001b[0m\u001b[0;34m)\u001b[0m\u001b[0;34m:\u001b[0m\u001b[0;34m\u001b[0m\u001b[0;34m\u001b[0m\u001b[0m\n\u001b[0;32m---> 32\u001b[0;31m     \u001b[0;32mimport\u001b[0m \u001b[0mbitsandbytes\u001b[0m \u001b[0;32mas\u001b[0m \u001b[0mbnb\u001b[0m\u001b[0;34m\u001b[0m\u001b[0;34m\u001b[0m\u001b[0m\n\u001b[0m\u001b[1;32m     33\u001b[0m \u001b[0;34m\u001b[0m\u001b[0m\n",
      "\u001b[0;32m~/.local/lib/python3.10/site-packages/bitsandbytes/__init__.py\u001b[0m in \u001b[0;36m<module>\u001b[0;34m\u001b[0m\n\u001b[1;32m     15\u001b[0m \u001b[0;32mfrom\u001b[0m \u001b[0;34m.\u001b[0m\u001b[0mcextension\u001b[0m \u001b[0;32mimport\u001b[0m \u001b[0mCOMPILED_WITH_CUDA\u001b[0m\u001b[0;34m\u001b[0m\u001b[0;34m\u001b[0m\u001b[0m\n\u001b[0;32m---> 16\u001b[0;31m \u001b[0;32mfrom\u001b[0m \u001b[0;34m.\u001b[0m\u001b[0mnn\u001b[0m \u001b[0;32mimport\u001b[0m \u001b[0mmodules\u001b[0m\u001b[0;34m\u001b[0m\u001b[0;34m\u001b[0m\u001b[0m\n\u001b[0m\u001b[1;32m     17\u001b[0m \u001b[0;34m\u001b[0m\u001b[0m\n",
      "\u001b[0;32m~/.local/lib/python3.10/site-packages/bitsandbytes/nn/__init__.py\u001b[0m in \u001b[0;36m<module>\u001b[0;34m\u001b[0m\n\u001b[1;32m     16\u001b[0m )\n\u001b[0;32m---> 17\u001b[0;31m from .triton_based_modules import (\n\u001b[0m\u001b[1;32m     18\u001b[0m     \u001b[0mStandardLinear\u001b[0m\u001b[0;34m,\u001b[0m\u001b[0;34m\u001b[0m\u001b[0;34m\u001b[0m\u001b[0m\n",
      "\u001b[0;32m~/.local/lib/python3.10/site-packages/bitsandbytes/nn/triton_based_modules.py\u001b[0m in \u001b[0;36m<module>\u001b[0;34m\u001b[0m\n\u001b[1;32m      6\u001b[0m \u001b[0;32mfrom\u001b[0m \u001b[0mbitsandbytes\u001b[0m\u001b[0;34m.\u001b[0m\u001b[0mtriton\u001b[0m\u001b[0;34m.\u001b[0m\u001b[0mdequantize_rowwise\u001b[0m \u001b[0;32mimport\u001b[0m \u001b[0mdequantize_rowwise\u001b[0m\u001b[0;34m\u001b[0m\u001b[0;34m\u001b[0m\u001b[0m\n\u001b[0;32m----> 7\u001b[0;31m from bitsandbytes.triton.int8_matmul_mixed_dequantize import (\n\u001b[0m\u001b[1;32m      8\u001b[0m     \u001b[0mint8_matmul_mixed_dequantize\u001b[0m\u001b[0;34m,\u001b[0m\u001b[0;34m\u001b[0m\u001b[0;34m\u001b[0m\u001b[0m\n",
      "\u001b[0;32m~/.local/lib/python3.10/site-packages/bitsandbytes/triton/int8_matmul_mixed_dequantize.py\u001b[0m in \u001b[0;36m<module>\u001b[0;34m\u001b[0m\n\u001b[1;32m     10\u001b[0m     \u001b[0;32mimport\u001b[0m \u001b[0mtriton\u001b[0m\u001b[0;34m.\u001b[0m\u001b[0mlanguage\u001b[0m \u001b[0;32mas\u001b[0m \u001b[0mtl\u001b[0m\u001b[0;34m\u001b[0m\u001b[0;34m\u001b[0m\u001b[0m\n\u001b[0;32m---> 11\u001b[0;31m     \u001b[0;32mfrom\u001b[0m \u001b[0mtriton\u001b[0m\u001b[0;34m.\u001b[0m\u001b[0mops\u001b[0m\u001b[0;34m.\u001b[0m\u001b[0mmatmul_perf_model\u001b[0m \u001b[0;32mimport\u001b[0m \u001b[0mearly_config_prune\u001b[0m\u001b[0;34m,\u001b[0m \u001b[0mestimate_matmul_time\u001b[0m\u001b[0;34m\u001b[0m\u001b[0;34m\u001b[0m\u001b[0m\n\u001b[0m\u001b[1;32m     12\u001b[0m \u001b[0;34m\u001b[0m\u001b[0m\n",
      "\u001b[0;31mModuleNotFoundError\u001b[0m: No module named 'triton.ops'",
      "\nThe above exception was the direct cause of the following exception:\n",
      "\u001b[0;31mRuntimeError\u001b[0m                              Traceback (most recent call last)",
      "\u001b[0;32m/tmp/ipykernel_37328/1474761294.py\u001b[0m in \u001b[0;36m<module>\u001b[0;34m\u001b[0m\n\u001b[1;32m     12\u001b[0m \u001b[0;32mimport\u001b[0m \u001b[0mre\u001b[0m\u001b[0;34m\u001b[0m\u001b[0;34m\u001b[0m\u001b[0m\n\u001b[1;32m     13\u001b[0m \u001b[0;32mimport\u001b[0m \u001b[0mmatplotlib\u001b[0m\u001b[0;34m.\u001b[0m\u001b[0mpyplot\u001b[0m \u001b[0;32mas\u001b[0m \u001b[0mplt\u001b[0m\u001b[0;34m\u001b[0m\u001b[0;34m\u001b[0m\u001b[0m\n\u001b[0;32m---> 14\u001b[0;31m \u001b[0;32mfrom\u001b[0m \u001b[0mdiffusers\u001b[0m \u001b[0;32mimport\u001b[0m \u001b[0mAutoPipelineForText2Image\u001b[0m\u001b[0;34m\u001b[0m\u001b[0;34m\u001b[0m\u001b[0m\n\u001b[0m",
      "\u001b[0;32m/usr/lib/python3.10/importlib/_bootstrap.py\u001b[0m in \u001b[0;36m_handle_fromlist\u001b[0;34m(module, fromlist, import_, recursive)\u001b[0m\n",
      "\u001b[0;32m~/.local/lib/python3.10/site-packages/diffusers/utils/import_utils.py\u001b[0m in \u001b[0;36m__getattr__\u001b[0;34m(self, name)\u001b[0m\n\u001b[1;32m    942\u001b[0m         \u001b[0;32melif\u001b[0m \u001b[0mname\u001b[0m \u001b[0;32min\u001b[0m \u001b[0mself\u001b[0m\u001b[0;34m.\u001b[0m\u001b[0m_class_to_module\u001b[0m\u001b[0;34m.\u001b[0m\u001b[0mkeys\u001b[0m\u001b[0;34m(\u001b[0m\u001b[0;34m)\u001b[0m\u001b[0;34m:\u001b[0m\u001b[0;34m\u001b[0m\u001b[0;34m\u001b[0m\u001b[0m\n\u001b[1;32m    943\u001b[0m             \u001b[0mmodule\u001b[0m \u001b[0;34m=\u001b[0m \u001b[0mself\u001b[0m\u001b[0;34m.\u001b[0m\u001b[0m_get_module\u001b[0m\u001b[0;34m(\u001b[0m\u001b[0mself\u001b[0m\u001b[0;34m.\u001b[0m\u001b[0m_class_to_module\u001b[0m\u001b[0;34m[\u001b[0m\u001b[0mname\u001b[0m\u001b[0;34m]\u001b[0m\u001b[0;34m)\u001b[0m\u001b[0;34m\u001b[0m\u001b[0;34m\u001b[0m\u001b[0m\n\u001b[0;32m--> 944\u001b[0;31m             \u001b[0mvalue\u001b[0m \u001b[0;34m=\u001b[0m \u001b[0mgetattr\u001b[0m\u001b[0;34m(\u001b[0m\u001b[0mmodule\u001b[0m\u001b[0;34m,\u001b[0m \u001b[0mname\u001b[0m\u001b[0;34m)\u001b[0m\u001b[0;34m\u001b[0m\u001b[0;34m\u001b[0m\u001b[0m\n\u001b[0m\u001b[1;32m    945\u001b[0m         \u001b[0;32melse\u001b[0m\u001b[0;34m:\u001b[0m\u001b[0;34m\u001b[0m\u001b[0;34m\u001b[0m\u001b[0m\n\u001b[1;32m    946\u001b[0m             \u001b[0;32mraise\u001b[0m \u001b[0mAttributeError\u001b[0m\u001b[0;34m(\u001b[0m\u001b[0;34mf\"module {self.__name__} has no attribute {name}\"\u001b[0m\u001b[0;34m)\u001b[0m\u001b[0;34m\u001b[0m\u001b[0;34m\u001b[0m\u001b[0m\n",
      "\u001b[0;32m~/.local/lib/python3.10/site-packages/diffusers/utils/import_utils.py\u001b[0m in \u001b[0;36m__getattr__\u001b[0;34m(self, name)\u001b[0m\n\u001b[1;32m    941\u001b[0m             \u001b[0mvalue\u001b[0m \u001b[0;34m=\u001b[0m \u001b[0mself\u001b[0m\u001b[0;34m.\u001b[0m\u001b[0m_get_module\u001b[0m\u001b[0;34m(\u001b[0m\u001b[0mname\u001b[0m\u001b[0;34m)\u001b[0m\u001b[0;34m\u001b[0m\u001b[0;34m\u001b[0m\u001b[0m\n\u001b[1;32m    942\u001b[0m         \u001b[0;32melif\u001b[0m \u001b[0mname\u001b[0m \u001b[0;32min\u001b[0m \u001b[0mself\u001b[0m\u001b[0;34m.\u001b[0m\u001b[0m_class_to_module\u001b[0m\u001b[0;34m.\u001b[0m\u001b[0mkeys\u001b[0m\u001b[0;34m(\u001b[0m\u001b[0;34m)\u001b[0m\u001b[0;34m:\u001b[0m\u001b[0;34m\u001b[0m\u001b[0;34m\u001b[0m\u001b[0m\n\u001b[0;32m--> 943\u001b[0;31m             \u001b[0mmodule\u001b[0m \u001b[0;34m=\u001b[0m \u001b[0mself\u001b[0m\u001b[0;34m.\u001b[0m\u001b[0m_get_module\u001b[0m\u001b[0;34m(\u001b[0m\u001b[0mself\u001b[0m\u001b[0;34m.\u001b[0m\u001b[0m_class_to_module\u001b[0m\u001b[0;34m[\u001b[0m\u001b[0mname\u001b[0m\u001b[0;34m]\u001b[0m\u001b[0;34m)\u001b[0m\u001b[0;34m\u001b[0m\u001b[0;34m\u001b[0m\u001b[0m\n\u001b[0m\u001b[1;32m    944\u001b[0m             \u001b[0mvalue\u001b[0m \u001b[0;34m=\u001b[0m \u001b[0mgetattr\u001b[0m\u001b[0;34m(\u001b[0m\u001b[0mmodule\u001b[0m\u001b[0;34m,\u001b[0m \u001b[0mname\u001b[0m\u001b[0;34m)\u001b[0m\u001b[0;34m\u001b[0m\u001b[0;34m\u001b[0m\u001b[0m\n\u001b[1;32m    945\u001b[0m         \u001b[0;32melse\u001b[0m\u001b[0;34m:\u001b[0m\u001b[0;34m\u001b[0m\u001b[0;34m\u001b[0m\u001b[0m\n",
      "\u001b[0;32m~/.local/lib/python3.10/site-packages/diffusers/utils/import_utils.py\u001b[0m in \u001b[0;36m_get_module\u001b[0;34m(self, module_name)\u001b[0m\n\u001b[1;32m    953\u001b[0m             \u001b[0;32mreturn\u001b[0m \u001b[0mimportlib\u001b[0m\u001b[0;34m.\u001b[0m\u001b[0mimport_module\u001b[0m\u001b[0;34m(\u001b[0m\u001b[0;34m\".\"\u001b[0m \u001b[0;34m+\u001b[0m \u001b[0mmodule_name\u001b[0m\u001b[0;34m,\u001b[0m \u001b[0mself\u001b[0m\u001b[0;34m.\u001b[0m\u001b[0m__name__\u001b[0m\u001b[0;34m)\u001b[0m\u001b[0;34m\u001b[0m\u001b[0;34m\u001b[0m\u001b[0m\n\u001b[1;32m    954\u001b[0m         \u001b[0;32mexcept\u001b[0m \u001b[0mException\u001b[0m \u001b[0;32mas\u001b[0m \u001b[0me\u001b[0m\u001b[0;34m:\u001b[0m\u001b[0;34m\u001b[0m\u001b[0;34m\u001b[0m\u001b[0m\n\u001b[0;32m--> 955\u001b[0;31m             raise RuntimeError(\n\u001b[0m\u001b[1;32m    956\u001b[0m                 \u001b[0;34mf\"Failed to import {self.__name__}.{module_name} because of the following error (look up to see its\"\u001b[0m\u001b[0;34m\u001b[0m\u001b[0;34m\u001b[0m\u001b[0m\n\u001b[1;32m    957\u001b[0m                 \u001b[0;34mf\" traceback):\\n{e}\"\u001b[0m\u001b[0;34m\u001b[0m\u001b[0;34m\u001b[0m\u001b[0m\n",
      "\u001b[0;31mRuntimeError\u001b[0m: Failed to import diffusers.pipelines.auto_pipeline because of the following error (look up to see its traceback):\nNo module named 'triton.ops'"
     ]
    }
   ],
   "source": [
    "import matplotlib.pyplot as plt\n",
    "from PIL import Image\n",
    "import pandas as pd\n",
    "from txtai.embeddings import Embeddings\n",
    "from fuzzywuzzy import fuzz\n",
    "from difflib import SequenceMatcher\n",
    "import os\n",
    "\n",
    "import torch\n",
    "import numpy as np\n",
    "import cv2\n",
    "import re\n",
    "import matplotlib.pyplot as plt\n",
    "from diffusers import AutoPipelineForText2Image\n"
   ]
  },
  {
   "cell_type": "code",
   "execution_count": 3,
   "id": "d9fb9833",
   "metadata": {},
   "outputs": [
    {
     "name": "stdout",
     "output_type": "stream",
     "text": [
      "Defaulting to user installation because normal site-packages is not writeable\n",
      "Collecting peft>=0.17.0\n",
      "  Downloading peft-0.17.1-py3-none-any.whl.metadata (14 kB)\n",
      "Requirement already satisfied: accelerate in /home/coe-ai/.local/lib/python3.10/site-packages (0.30.1)\n",
      "Collecting accelerate\n",
      "  Downloading accelerate-1.10.1-py3-none-any.whl.metadata (19 kB)\n",
      "Requirement already satisfied: transformers in /home/coe-ai/.local/lib/python3.10/site-packages (4.56.0)\n",
      "Requirement already satisfied: safetensors in /home/coe-ai/.local/lib/python3.10/site-packages (0.5.3)\n",
      "Collecting safetensors\n",
      "  Using cached safetensors-0.6.2-cp38-abi3-manylinux_2_17_x86_64.manylinux2014_x86_64.whl.metadata (4.1 kB)\n",
      "Requirement already satisfied: numpy>=1.17 in /home/coe-ai/.local/lib/python3.10/site-packages (from peft>=0.17.0) (1.26.4)\n",
      "Requirement already satisfied: packaging>=20.0 in /usr/lib/python3/dist-packages (from peft>=0.17.0) (21.3)\n",
      "Requirement already satisfied: psutil in /home/coe-ai/.local/lib/python3.10/site-packages (from peft>=0.17.0) (5.9.8)\n",
      "Requirement already satisfied: pyyaml in /home/coe-ai/.local/lib/python3.10/site-packages (from peft>=0.17.0) (6.0.2)\n",
      "Requirement already satisfied: torch>=1.13.0 in /home/coe-ai/.local/lib/python3.10/site-packages (from peft>=0.17.0) (2.8.0)\n",
      "Requirement already satisfied: tqdm in /home/coe-ai/.local/lib/python3.10/site-packages (from peft>=0.17.0) (4.64.1)\n",
      "Requirement already satisfied: huggingface_hub>=0.25.0 in /home/coe-ai/.local/lib/python3.10/site-packages (from peft>=0.17.0) (0.34.4)\n",
      "Requirement already satisfied: filelock in /home/coe-ai/.local/lib/python3.10/site-packages (from transformers) (3.17.0)\n",
      "Requirement already satisfied: regex!=2019.12.17 in /home/coe-ai/.local/lib/python3.10/site-packages (from transformers) (2024.11.6)\n",
      "Requirement already satisfied: requests in /usr/lib/python3/dist-packages (from transformers) (2.25.1)\n",
      "Requirement already satisfied: tokenizers<=0.23.0,>=0.22.0 in /home/coe-ai/.local/lib/python3.10/site-packages (from transformers) (0.22.0)\n",
      "Requirement already satisfied: fsspec>=2023.5.0 in /home/coe-ai/.local/lib/python3.10/site-packages (from huggingface_hub>=0.25.0->peft>=0.17.0) (2025.2.0)\n",
      "Requirement already satisfied: typing-extensions>=3.7.4.3 in /home/coe-ai/.local/lib/python3.10/site-packages (from huggingface_hub>=0.25.0->peft>=0.17.0) (4.14.1)\n",
      "Requirement already satisfied: hf-xet<2.0.0,>=1.1.3 in /home/coe-ai/.local/lib/python3.10/site-packages (from huggingface_hub>=0.25.0->peft>=0.17.0) (1.1.9)\n",
      "Requirement already satisfied: sympy>=1.13.3 in /home/coe-ai/.local/lib/python3.10/site-packages (from torch>=1.13.0->peft>=0.17.0) (1.14.0)\n",
      "Requirement already satisfied: networkx in /home/coe-ai/.local/lib/python3.10/site-packages (from torch>=1.13.0->peft>=0.17.0) (3.4.2)\n",
      "Requirement already satisfied: jinja2 in /home/coe-ai/.local/lib/python3.10/site-packages (from torch>=1.13.0->peft>=0.17.0) (3.1.4)\n",
      "Requirement already satisfied: nvidia-cuda-nvrtc-cu12==12.8.93 in /home/coe-ai/.local/lib/python3.10/site-packages (from torch>=1.13.0->peft>=0.17.0) (12.8.93)\n",
      "Requirement already satisfied: nvidia-cuda-runtime-cu12==12.8.90 in /home/coe-ai/.local/lib/python3.10/site-packages (from torch>=1.13.0->peft>=0.17.0) (12.8.90)\n",
      "Requirement already satisfied: nvidia-cuda-cupti-cu12==12.8.90 in /home/coe-ai/.local/lib/python3.10/site-packages (from torch>=1.13.0->peft>=0.17.0) (12.8.90)\n",
      "Requirement already satisfied: nvidia-cudnn-cu12==9.10.2.21 in /home/coe-ai/.local/lib/python3.10/site-packages (from torch>=1.13.0->peft>=0.17.0) (9.10.2.21)\n",
      "Requirement already satisfied: nvidia-cublas-cu12==12.8.4.1 in /home/coe-ai/.local/lib/python3.10/site-packages (from torch>=1.13.0->peft>=0.17.0) (12.8.4.1)\n",
      "Requirement already satisfied: nvidia-cufft-cu12==11.3.3.83 in /home/coe-ai/.local/lib/python3.10/site-packages (from torch>=1.13.0->peft>=0.17.0) (11.3.3.83)\n",
      "Requirement already satisfied: nvidia-curand-cu12==10.3.9.90 in /home/coe-ai/.local/lib/python3.10/site-packages (from torch>=1.13.0->peft>=0.17.0) (10.3.9.90)\n",
      "Requirement already satisfied: nvidia-cusolver-cu12==11.7.3.90 in /home/coe-ai/.local/lib/python3.10/site-packages (from torch>=1.13.0->peft>=0.17.0) (11.7.3.90)\n",
      "Requirement already satisfied: nvidia-cusparse-cu12==12.5.8.93 in /home/coe-ai/.local/lib/python3.10/site-packages (from torch>=1.13.0->peft>=0.17.0) (12.5.8.93)\n",
      "Requirement already satisfied: nvidia-cusparselt-cu12==0.7.1 in /home/coe-ai/.local/lib/python3.10/site-packages (from torch>=1.13.0->peft>=0.17.0) (0.7.1)\n",
      "Requirement already satisfied: nvidia-nccl-cu12==2.27.3 in /home/coe-ai/.local/lib/python3.10/site-packages (from torch>=1.13.0->peft>=0.17.0) (2.27.3)\n",
      "Requirement already satisfied: nvidia-nvtx-cu12==12.8.90 in /home/coe-ai/.local/lib/python3.10/site-packages (from torch>=1.13.0->peft>=0.17.0) (12.8.90)\n",
      "Requirement already satisfied: nvidia-nvjitlink-cu12==12.8.93 in /home/coe-ai/.local/lib/python3.10/site-packages (from torch>=1.13.0->peft>=0.17.0) (12.8.93)\n",
      "Requirement already satisfied: nvidia-cufile-cu12==1.13.1.3 in /home/coe-ai/.local/lib/python3.10/site-packages (from torch>=1.13.0->peft>=0.17.0) (1.13.1.3)\n",
      "Requirement already satisfied: triton==3.4.0 in /home/coe-ai/.local/lib/python3.10/site-packages (from torch>=1.13.0->peft>=0.17.0) (3.4.0)\n",
      "Requirement already satisfied: setuptools>=40.8.0 in /home/coe-ai/.local/lib/python3.10/site-packages (from triton==3.4.0->torch>=1.13.0->peft>=0.17.0) (80.9.0)\n",
      "Requirement already satisfied: mpmath<1.4,>=1.1.0 in /home/coe-ai/.local/lib/python3.10/site-packages (from sympy>=1.13.3->torch>=1.13.0->peft>=0.17.0) (1.3.0)\n",
      "Requirement already satisfied: MarkupSafe>=2.0 in /home/coe-ai/.local/lib/python3.10/site-packages (from jinja2->torch>=1.13.0->peft>=0.17.0) (2.1.5)\n",
      "Downloading peft-0.17.1-py3-none-any.whl (504 kB)\n",
      "Downloading accelerate-1.10.1-py3-none-any.whl (374 kB)\n",
      "Using cached safetensors-0.6.2-cp38-abi3-manylinux_2_17_x86_64.manylinux2014_x86_64.whl (485 kB)\n",
      "Installing collected packages: safetensors, accelerate, peft\n",
      "\u001b[2K  Attempting uninstall: safetensors\n",
      "\u001b[2K    Found existing installation: safetensors 0.5.3\n",
      "\u001b[2K    Uninstalling safetensors-0.5.3:\n",
      "\u001b[2K      Successfully uninstalled safetensors-0.5.3\n",
      "\u001b[2K  Attempting uninstall: accelerate\n",
      "\u001b[2K    Found existing installation: accelerate 0.30.1\n",
      "\u001b[2K    Uninstalling accelerate-0.30.1:\n",
      "\u001b[2K      Successfully uninstalled accelerate-0.30.1\n",
      "\u001b[2K  Attempting uninstall: peft━━━━━━\u001b[0m\u001b[38;5;237m╺\u001b[0m\u001b[38;5;237m━━━━━━━━━━━━━━━━━━━━━━━━━━\u001b[0m \u001b[32m1/3\u001b[0m [accelerate]\n",
      "\u001b[2K    Found existing installation: peft 0.11.1m╺\u001b[0m\u001b[38;5;237m━━━━━━━━━━━━━━━━━━━━━━━━━━\u001b[0m \u001b[32m1/3\u001b[0m [accelerate]\n",
      "\u001b[2K    Uninstalling peft-0.11.1:━\u001b[0m\u001b[38;5;237m╺\u001b[0m\u001b[38;5;237m━━━━━━━━━━━━━━━━━━━━━━━━━━\u001b[0m \u001b[32m1/3\u001b[0m [accelerate]\n",
      "\u001b[2K      Successfully uninstalled peft-0.11.137m╺\u001b[0m\u001b[38;5;237m━━━━━━━━━━━━━━━━━━━━━━━━━━\u001b[0m \u001b[32m1/3\u001b[0m [accelerate]\n",
      "\u001b[2K   \u001b[38;2;114;156;31m━━━━━━━━━━━━━━━━━━━━━━━━━━━━━━━━━━━━━━━━\u001b[0m \u001b[32m3/3\u001b[0m [peft]━━━━━━━━━━━━━\u001b[0m \u001b[32m2/3\u001b[0m [peft]\n",
      "\u001b[1A\u001b[2KSuccessfully installed accelerate-1.10.1 peft-0.17.1 safetensors-0.6.2\n",
      "Note: you may need to restart the kernel to use updated packages.\n"
     ]
    }
   ],
   "source": [
    "pip install -U \"peft>=0.17.0\" accelerate transformers safetensors\n"
   ]
  },
  {
   "cell_type": "code",
   "execution_count": null,
   "id": "f1821be7",
   "metadata": {},
   "outputs": [],
   "source": [
    "# Load model in 16-bit precision\n",
    "pipeline = AutoPipelineForText2Image.from_pretrained(\n",
    "    'black-forest-labs/FLUX.1-schnell', torch_dtype=torch.bfloat16\n",
    ").to(\"cuda\")\n",
    "\n",
    "# Load LoRA weights\n",
    "pipeline.load_lora_weights(\n",
    "    'output_with_90_percent_images/my_first_flux_lora_v1', \n",
    "    weight_name='my_first_flux_lora_v1_000070000.safetensors'\n",
    ")\n"
   ]
  },
  {
   "cell_type": "code",
   "execution_count": null,
   "id": "9195d67a",
   "metadata": {},
   "outputs": [],
   "source": [
    "import os\n",
    "import gradio as gr\n",
    "\n",
    "# Set Gradio temp directory to a writable path\n",
    "os.environ[\"GRADIO_TEMP_DIR\"] = \"/home/asadullah_yousaf/gradio_cache\"\n",
    "\n",
    "# Ensure the directory exists\n",
    "os.makedirs(os.environ[\"GRADIO_TEMP_DIR\"], exist_ok=True)"
   ]
  },
  {
   "cell_type": "code",
   "execution_count": null,
   "id": "70df22c5",
   "metadata": {},
   "outputs": [],
   "source": []
  },
  {
   "cell_type": "code",
   "execution_count": null,
   "id": "8fbc9234",
   "metadata": {},
   "outputs": [],
   "source": []
  },
  {
   "cell_type": "code",
   "execution_count": null,
   "id": "62864f17",
   "metadata": {},
   "outputs": [],
   "source": []
  },
  {
   "cell_type": "code",
   "execution_count": null,
   "id": "bcf54096",
   "metadata": {},
   "outputs": [],
   "source": []
  },
  {
   "cell_type": "code",
   "execution_count": 4,
   "id": "bd70ff64",
   "metadata": {},
   "outputs": [],
   "source": [
    "import gradio as gr\n",
    "\n",
    "# Function to generate images\n",
    "def generate_image(prompt):\n",
    "    \n",
    "    prompt = prompt\n",
    "    # Initialize txtai embeddings\n",
    "    embeddings = Embeddings({\"path\": \"sentence-transformers/all-MiniLM-L6-v2\"})\n",
    "    model_path = \"models/txtai_prompt_index\"\n",
    "\n",
    "    # Load the model (for future use)\n",
    "    embeddings.load(model_path)\n",
    "\n",
    "    # Search for top 3 similar prompts\n",
    "    results = embeddings.search(prompt, 3)\n",
    "\n",
    "    # Function to calculate word-level differences\n",
    "    def get_differences(text1, text2):\n",
    "        matcher = SequenceMatcher(None, text1.split(), text2.split())\n",
    "        diffs = [text2[b1:b2] for tag, a1, a2, b1, b2 in matcher.get_opcodes() if tag != 'equal']\n",
    "        return \" \".join(diffs)\n",
    "\n",
    "    # Load dataset\n",
    "    df = pd.read_csv(\"dataset_with_80000_with_concise_prompt.csv\")\n",
    "    data = df[\"text\"]\n",
    "    \n",
    "    # Process results with threshold\n",
    "    THRESHOLD = 0.85  # 95% similarity threshold\n",
    "    valid_images = []\n",
    "\n",
    "    for idx, similarity in results:\n",
    "        existing_text = data[idx]\n",
    "\n",
    "        # Calculate fuzzy similarity\n",
    "        fuzzy_similarity = fuzz.ratio(prompt, existing_text) / 100.0\n",
    "\n",
    "        # Weighted similarity score\n",
    "        final_similarity = (similarity * 0.7) + (fuzzy_similarity * 0.3)\n",
    "\n",
    "        # Ignore images below 95% similarity\n",
    "        if final_similarity < THRESHOLD:\n",
    "            continue\n",
    "\n",
    "        # Get minor differences\n",
    "        differences = get_differences(prompt, existing_text)\n",
    "\n",
    "        print(f\"🔹 **Existing Prompt:**\\n{existing_text}\\n\")\n",
    "        print(f\"✅ **Semantic Similarity:** {similarity:.2f}\")\n",
    "        print(f\"✅ **Fuzzy Similarity:** {fuzzy_similarity:.2f}\")\n",
    "        print(f\"✅ **Final Score:** {final_similarity:.2f}\")\n",
    "        print(f\"⚠️ **Minor Differences:** {differences}\\n{'-'*80}\\n\")\n",
    "\n",
    "        valid_images.append((idx, final_similarity))\n",
    "\n",
    "    # Display only valid images\n",
    "    if valid_images:\n",
    "        fig, axes = plt.subplots(1, len(valid_images), figsize=(5 * len(valid_images), 5))\n",
    "\n",
    "        if len(valid_images) == 1:\n",
    "            axes = [axes]  # Make single image case work\n",
    "\n",
    "        for i, (img_idx, confidence) in enumerate(valid_images):\n",
    "            img_path = df[\"Image_Path\"][img_idx].replace(\"floorplan_image\", \"floorplan_image\")\n",
    "            img = Image.open(img_path)\n",
    "\n",
    "            axes[i].imshow(img)\n",
    "            axes[i].axis(\"off\")\n",
    "            axes[i].set_title(f\"Image {i+1}\\nConfidence: {confidence * 100:.2f}%\")\n",
    "\n",
    "        plt.tight_layout()\n",
    "        plt.show()\n",
    "    else:\n",
    "        print(\"⚠️ No images met the 95% similarity threshold!\")\n",
    "    \n",
    "    \n",
    "    # Create an array to store images\n",
    "    image_array = []\n",
    "\n",
    "    if valid_images:\n",
    "        for img_idx, _ in valid_images:  # Ignore confidence score\n",
    "            img_path = df[\"Image_Path\"][img_idx].replace(\"floorplan_image\", \"floorplan_image\")\n",
    "            img = Image.open(img_path)\n",
    "            image_array.append(img)  # Store only the image\n",
    "\n",
    "    # Now `image_array` contains only the images\n",
    "\n",
    "\n",
    "    def generate_images(prompt, num_images=10):\n",
    "        generated_images = []\n",
    "\n",
    "        for i in range(num_images):\n",
    "            image = pipeline(prompt).images[0]  # Generate image\n",
    "            image_path = f\"generated_image_{i+1}.png\"\n",
    "            image.save(image_path)  # Save the image\n",
    "            generated_images.append(image_path)  # Store path\n",
    "\n",
    "            # Display image\n",
    "            plt.figure(figsize=(4, 4))\n",
    "            plt.imshow(image)\n",
    "            plt.axis('off')\n",
    "            plt.title(f'Generated Image {i+1}')\n",
    "            plt.show()\n",
    "\n",
    "        return generated_images\n",
    "    # Define color mappings for different rooms\n",
    "    AREA_COLOR_MAP = {\n",
    "        (238, 232, 170): \"Living Room\",    # Light Yellow\n",
    "        (254, 215, 0): \"Common Room\",      # Yellow\n",
    "        (240, 128, 127): \"Kitchen\",        # Light Coral\n",
    "        (173, 217, 230): \"Bathroom\",       # Light Blue\n",
    "        (254, 165, 0): \"Master Room\",      # Orange\n",
    "        (106, 142, 34): \"Balcony\",         # Olive Green\n",
    "        (218, 112, 213): \"Storage Room\",   # Orchid\n",
    "    }\n",
    "\n",
    "    def count_large_rooms(image, color_map, tolerance=0, min_pixels=500):\n",
    "        \"\"\"Count connected components with pixel area > min_pixels.\"\"\"\n",
    "        room_counts = {label: 0 for label in color_map.values()}  \n",
    "\n",
    "        for color, label in color_map.items():\n",
    "            lower_bound = np.array([max(0, c - tolerance) for c in color], dtype=np.uint8)\n",
    "            upper_bound = np.array([min(255, c + tolerance) for c in color], dtype=np.uint8)\n",
    "\n",
    "            # Create a mask for the current color\n",
    "            mask = cv2.inRange(image, lower_bound, upper_bound)\n",
    "\n",
    "            # Find connected components\n",
    "            num_labels, labels, stats, _ = cv2.connectedComponentsWithStats(mask, connectivity=8)\n",
    "\n",
    "            # Count only components with area > min_pixels (excluding background)\n",
    "            room_counts[label] = sum(1 for i in range(1, num_labels) if stats[i, cv2.CC_STAT_AREA] > min_pixels)\n",
    "\n",
    "        return room_counts\n",
    "    def extract_room_counts_from_prompt(prompt):\n",
    "        \"\"\"Extract expected room counts from the text prompt.\"\"\"\n",
    "        normalized_names = {room.lower(): room for room in AREA_COLOR_MAP.values()}\n",
    "        room_counts = {room: 0 for room in AREA_COLOR_MAP.values()}\n",
    "\n",
    "        room_pattern = r\"(balcony|bathroom|living room|master room|kitchen|common room|storage room)\"\n",
    "        matches = re.findall(room_pattern, prompt, re.IGNORECASE)\n",
    "\n",
    "        for match in matches:\n",
    "            room_type = normalized_names.get(match.lower(), None)\n",
    "            if room_type:\n",
    "                room_counts[room_type] += 1\n",
    "\n",
    "        return room_counts\n",
    "\n",
    "    def calculate_loss(image_counts, prompt_counts):\n",
    "        \"\"\"Calculate the absolute difference between expected and actual room counts.\"\"\"\n",
    "        total_loss = sum(abs(image_counts[room] - prompt_counts[room]) for room in image_counts)\n",
    "\n",
    "        room_differences = {\n",
    "            room: {\n",
    "                \"Image Count\": image_counts[room],\n",
    "                \"Prompt Count\": prompt_counts[room],\n",
    "                \"Difference\": abs(image_counts[room] - prompt_counts[room])\n",
    "            }\n",
    "            for room in image_counts\n",
    "        }\n",
    "\n",
    "        return total_loss, room_differences\n",
    "\n",
    "    # Global list to store losses\n",
    "    image_losses = []\n",
    "\n",
    "    def process_floor_plans(image_paths, prompt, tolerance=23, min_pixels=500):\n",
    "        \"\"\"Process floor plans, compare with prompt, and calculate loss.\"\"\"\n",
    "\n",
    "        global image_losses  # Use global variable to store losses\n",
    "        image_losses = []  # Reset for each new batch of images\n",
    "\n",
    "        prompt_room_counts = extract_room_counts_from_prompt(prompt)\n",
    "\n",
    "        plt.figure(figsize=(12, 4))\n",
    "        room_differences_per_image = []  # Store room count differences per image\n",
    "\n",
    "        for i, image_path in enumerate(image_paths):\n",
    "            # Load image\n",
    "            original_image = cv2.imread(image_path)\n",
    "            if original_image is None:\n",
    "                print(f\"Error: Image not found at {image_path}\")\n",
    "                continue\n",
    "\n",
    "            # Convert BGR to RGB\n",
    "            original_image_rgb = cv2.cvtColor(original_image, cv2.COLOR_BGR2RGB)\n",
    "\n",
    "            # Get room counts\n",
    "            image_room_counts = count_large_rooms(original_image_rgb, AREA_COLOR_MAP, tolerance, min_pixels)\n",
    "\n",
    "            # Compute loss and detailed differences\n",
    "            loss, room_differences = calculate_loss(image_room_counts, prompt_room_counts)\n",
    "            image_losses.append((image_path, loss))  # Store image name & loss\n",
    "\n",
    "            room_differences_per_image.append(room_differences)\n",
    "\n",
    "            # Display image with loss\n",
    "            plt.subplot(1, len(image_paths), i + 1)\n",
    "            plt.imshow(original_image_rgb)\n",
    "            plt.axis(\"off\")\n",
    "            plt.title(f\"Loss = {loss}\")\n",
    "\n",
    "\n",
    "        # Print loss and room count differences for each image\n",
    "        for image_path, room_differences in zip(image_paths, room_differences_per_image):\n",
    "            print(f\"\\nImage: {image_path}\")\n",
    "            for room, details in room_differences.items():\n",
    "                print(f\"{room}: Image count = {details['Image Count']}, \"\n",
    "                      f\"Prompt count = {details['Prompt Count']}, \"\n",
    "                      f\"Difference = {details['Difference']}\")\n",
    "        return image_losses\n",
    "\n",
    "    # prompt = '1 balcony 50 sqft ratio 13:3 green, master room 200 sqft ratio 7:11 yellow, bathroom 100 sqft ratio 1:1 blue, common room 150 sqft ratio 15:16 orange, 2 balcony 23 sqft ratio 13:9 green, living room 800 sqft ratio 11:9 light yellow.'\n",
    "\n",
    "    # Generate 3 images\n",
    "    generated_images = generate_images(prompt, num_images=10)\n",
    "\n",
    "    # Process generated images\n",
    "    image_losses = process_floor_plans(generated_images, prompt)\n",
    "    \n",
    "    print(\"+++++++++++++++++++++++++++++++\")\n",
    "    print(image_losses)\n",
    "    print(\"+++++++++++++++++++++++++++++++\")\n",
    "    \n",
    "\n",
    "    global best_images_array\n",
    "    best_images_array = []  # New array to store best images\n",
    "\n",
    "    if image_losses:\n",
    "        # Filter images with loss ≤ 2\n",
    "        filtered_images = [(img_name, loss) for img_name, loss in image_losses if loss <= 2]\n",
    "\n",
    "        if not filtered_images:\n",
    "            print(\"No images found with loss ≤ 2.\")\n",
    "        else:\n",
    "            # Sort images by loss (ascending order)\n",
    "            filtered_images.sort(key=lambda x: x[1])\n",
    "\n",
    "            # Select up to 3 images with the least loss\n",
    "            best_images = filtered_images[:3]\n",
    "            best_images_array = [img_name for img_name, _ in best_images]  # Store image names\n",
    "\n",
    "            # Print loss for selected images\n",
    "            print(\"\\nSelected Images with Loss ≤ 2:\")\n",
    "            for img_name, loss in best_images:\n",
    "                print(f\"{img_name}: Loss = {loss}\")\n",
    "\n",
    "            # Display best images\n",
    "            plt.figure(figsize=(12, 4))  # Adjust figure size for 3 images\n",
    "            for i, img_name in enumerate(best_images_array):\n",
    "                img = cv2.imread(img_name)\n",
    "                img = cv2.cvtColor(img, cv2.COLOR_BGR2RGB)\n",
    "\n",
    "                plt.subplot(1, 3, i + 1)  # Adjust subplot for 3 images\n",
    "                plt.imshow(img)\n",
    "                plt.axis(\"off\")\n",
    "                plt.title(f\"Best Image {i+1}\")\n",
    "\n",
    "    else:\n",
    "        print(\"No images processed yet.\")\n",
    "\n",
    "\n",
    "\n",
    "\n",
    "    best_images_array.extend(image_array)\n",
    "    # Convert file paths to PIL images\n",
    "    best_images_array = [Image.open(img) if isinstance(img, str) else img for img in best_images_array]\n",
    "\n",
    "    \n",
    "    return best_images_array\n",
    "\n"
   ]
  },
  {
   "cell_type": "code",
   "execution_count": null,
   "id": "6793954b",
   "metadata": {},
   "outputs": [],
   "source": []
  },
  {
   "cell_type": "code",
   "execution_count": null,
   "id": "717bc716",
   "metadata": {},
   "outputs": [],
   "source": []
  },
  {
   "cell_type": "code",
   "execution_count": 5,
   "id": "662a43af",
   "metadata": {
    "scrolled": false
   },
   "outputs": [
    {
     "name": "stdout",
     "output_type": "stream",
     "text": [
      "* Running on local URL:  http://0.0.0.0:7881\n",
      "* Running on public URL: https://3d466a1d61659d9ffd.gradio.live\n",
      "\n",
      "This share link expires in 72 hours. For free permanent hosting and GPU upgrades, run `gradio deploy` from the terminal in the working directory to deploy to Hugging Face Spaces (https://huggingface.co/spaces)\n"
     ]
    },
    {
     "data": {
      "text/html": [
       "<div><iframe src=\"https://3d466a1d61659d9ffd.gradio.live\" width=\"100%\" height=\"500\" allow=\"autoplay; camera; microphone; clipboard-read; clipboard-write;\" frameborder=\"0\" allowfullscreen></iframe></div>"
      ],
      "text/plain": [
       "<IPython.core.display.HTML object>"
      ]
     },
     "metadata": {},
     "output_type": "display_data"
    },
    {
     "data": {
      "text/plain": []
     },
     "execution_count": 5,
     "metadata": {},
     "output_type": "execute_result"
    },
    {
     "name": "stdout",
     "output_type": "stream",
     "text": [
      "🔹 **Existing Prompt:**\n",
      "master room 250 sqft ratio 8:9 yellow, bathroom 50 sqft ratio 3:2 blue, kitchen 50 sqft ratio 3:2 coral red, common room 50 sqft ratio 11:8 orange, living room 550 sqft ratio 16:15 light yellow, balcony 100 sqft ratio 13:6 green.\n",
      "\n",
      "✅ **Semantic Similarity:** 0.99\n",
      "✅ **Fuzzy Similarity:** 0.70\n",
      "✅ **Final Score:** 0.90\n",
      "⚠️ **Minor Differences:** r o   50 sqft ratio  9 e o ba\n",
      "--------------------------------------------------------------------------------\n",
      "\n",
      "🔹 **Existing Prompt:**\n",
      "master room 250 sqft ratio 10:11 yellow, bathroom 50 sqft ratio 16:13 blue, common room 150 sqft ratio 3:4 orange, kitchen 100 sqft ratio 14:11 coral red, living room 600 sqft ratio 3:4 light yellow, balcony 50 sqft ratio 7:2 green.\n",
      "\n",
      "✅ **Semantic Similarity:** 0.99\n",
      "✅ **Fuzzy Similarity:** 0.77\n",
      "✅ **Final Score:** 0.92\n",
      "⚠️ **Minor Differences:** r o    ft ratio 10:11 yellow, \n",
      "--------------------------------------------------------------------------------\n",
      "\n",
      "🔹 **Existing Prompt:**\n",
      "master room 250 sqft ratio 11:10 yellow, bathroom 100 sqft ratio 9:5 blue, common room 200 sqft ratio 13:15 orange, kitchen 100 sqft ratio 5:8 coral red, living room 550 sqft ratio 11:16 light yellow, balcony 50 sqft ratio 15:8 green.\n",
      "\n",
      "✅ **Semantic Similarity:** 0.99\n",
      "✅ **Fuzzy Similarity:** 0.76\n",
      "✅ **Final Score:** 0.92\n",
      "⚠️ **Minor Differences:** r o   5   ft i 11:  yell , \n",
      "--------------------------------------------------------------------------------\n",
      "\n"
     ]
    },
    {
     "name": "stderr",
     "output_type": "stream",
     "text": [
      "/tmp/ipykernel_118242/240800156.py:71: UserWarning: Matplotlib is currently using agg, which is a non-GUI backend, so cannot show the figure.\n",
      "  plt.show()\n"
     ]
    },
    {
     "data": {
      "application/vnd.jupyter.widget-view+json": {
       "model_id": "ef091041254a468b8ce8c38641880ac4",
       "version_major": 2,
       "version_minor": 0
      },
      "text/plain": [
       "  0%|          | 0/28 [00:00<?, ?it/s]"
      ]
     },
     "metadata": {},
     "output_type": "display_data"
    },
    {
     "name": "stderr",
     "output_type": "stream",
     "text": [
      "/tmp/ipykernel_118242/240800156.py:102: UserWarning: Matplotlib is currently using agg, which is a non-GUI backend, so cannot show the figure.\n",
      "  plt.show()\n"
     ]
    },
    {
     "data": {
      "application/vnd.jupyter.widget-view+json": {
       "model_id": "8c67ca14e7664e16bf16dab39513948c",
       "version_major": 2,
       "version_minor": 0
      },
      "text/plain": [
       "  0%|          | 0/28 [00:00<?, ?it/s]"
      ]
     },
     "metadata": {},
     "output_type": "display_data"
    },
    {
     "data": {
      "application/vnd.jupyter.widget-view+json": {
       "model_id": "6601c5a4a614413a826159160e7cd764",
       "version_major": 2,
       "version_minor": 0
      },
      "text/plain": [
       "  0%|          | 0/28 [00:00<?, ?it/s]"
      ]
     },
     "metadata": {},
     "output_type": "display_data"
    },
    {
     "data": {
      "application/vnd.jupyter.widget-view+json": {
       "model_id": "9f7c8cb4babb4fd09bf91719184ef3a0",
       "version_major": 2,
       "version_minor": 0
      },
      "text/plain": [
       "  0%|          | 0/28 [00:00<?, ?it/s]"
      ]
     },
     "metadata": {},
     "output_type": "display_data"
    },
    {
     "data": {
      "application/vnd.jupyter.widget-view+json": {
       "model_id": "d34c8ab640ff455786cf40c0640c9fb3",
       "version_major": 2,
       "version_minor": 0
      },
      "text/plain": [
       "  0%|          | 0/28 [00:00<?, ?it/s]"
      ]
     },
     "metadata": {},
     "output_type": "display_data"
    },
    {
     "data": {
      "application/vnd.jupyter.widget-view+json": {
       "model_id": "c8cc8dd9f43c4a83a5b585a2434d6414",
       "version_major": 2,
       "version_minor": 0
      },
      "text/plain": [
       "  0%|          | 0/28 [00:00<?, ?it/s]"
      ]
     },
     "metadata": {},
     "output_type": "display_data"
    },
    {
     "data": {
      "application/vnd.jupyter.widget-view+json": {
       "model_id": "5419602e0f1448d88457dd66665cef29",
       "version_major": 2,
       "version_minor": 0
      },
      "text/plain": [
       "  0%|          | 0/28 [00:00<?, ?it/s]"
      ]
     },
     "metadata": {},
     "output_type": "display_data"
    },
    {
     "data": {
      "application/vnd.jupyter.widget-view+json": {
       "model_id": "cf8dcb50d7ae462f97a185422035ba65",
       "version_major": 2,
       "version_minor": 0
      },
      "text/plain": [
       "  0%|          | 0/28 [00:00<?, ?it/s]"
      ]
     },
     "metadata": {},
     "output_type": "display_data"
    },
    {
     "data": {
      "application/vnd.jupyter.widget-view+json": {
       "model_id": "64e4d219be104e24bf19eab9437f96d5",
       "version_major": 2,
       "version_minor": 0
      },
      "text/plain": [
       "  0%|          | 0/28 [00:00<?, ?it/s]"
      ]
     },
     "metadata": {},
     "output_type": "display_data"
    },
    {
     "data": {
      "application/vnd.jupyter.widget-view+json": {
       "model_id": "a87904a2399f41b2979c4cc33e49fa40",
       "version_major": 2,
       "version_minor": 0
      },
      "text/plain": [
       "  0%|          | 0/28 [00:00<?, ?it/s]"
      ]
     },
     "metadata": {},
     "output_type": "display_data"
    },
    {
     "name": "stdout",
     "output_type": "stream",
     "text": [
      "\n",
      "Image: generated_image_1.png\n",
      "Living Room: Image count = 2, Prompt count = 1, Difference = 1\n",
      "Common Room: Image count = 1, Prompt count = 1, Difference = 0\n",
      "Kitchen: Image count = 1, Prompt count = 1, Difference = 0\n",
      "Bathroom: Image count = 1, Prompt count = 1, Difference = 0\n",
      "Master Room: Image count = 1, Prompt count = 1, Difference = 0\n",
      "Balcony: Image count = 1, Prompt count = 1, Difference = 0\n",
      "Storage Room: Image count = 0, Prompt count = 0, Difference = 0\n",
      "\n",
      "Image: generated_image_2.png\n",
      "Living Room: Image count = 1, Prompt count = 1, Difference = 0\n",
      "Common Room: Image count = 1, Prompt count = 1, Difference = 0\n",
      "Kitchen: Image count = 1, Prompt count = 1, Difference = 0\n",
      "Bathroom: Image count = 2, Prompt count = 1, Difference = 1\n",
      "Master Room: Image count = 2, Prompt count = 1, Difference = 1\n",
      "Balcony: Image count = 1, Prompt count = 1, Difference = 0\n",
      "Storage Room: Image count = 0, Prompt count = 0, Difference = 0\n",
      "\n",
      "Image: generated_image_3.png\n",
      "Living Room: Image count = 1, Prompt count = 1, Difference = 0\n",
      "Common Room: Image count = 1, Prompt count = 1, Difference = 0\n",
      "Kitchen: Image count = 2, Prompt count = 1, Difference = 1\n",
      "Bathroom: Image count = 1, Prompt count = 1, Difference = 0\n",
      "Master Room: Image count = 1, Prompt count = 1, Difference = 0\n",
      "Balcony: Image count = 1, Prompt count = 1, Difference = 0\n",
      "Storage Room: Image count = 0, Prompt count = 0, Difference = 0\n",
      "\n",
      "Image: generated_image_4.png\n",
      "Living Room: Image count = 1, Prompt count = 1, Difference = 0\n",
      "Common Room: Image count = 1, Prompt count = 1, Difference = 0\n",
      "Kitchen: Image count = 1, Prompt count = 1, Difference = 0\n",
      "Bathroom: Image count = 1, Prompt count = 1, Difference = 0\n",
      "Master Room: Image count = 1, Prompt count = 1, Difference = 0\n",
      "Balcony: Image count = 2, Prompt count = 1, Difference = 1\n",
      "Storage Room: Image count = 0, Prompt count = 0, Difference = 0\n",
      "\n",
      "Image: generated_image_5.png\n",
      "Living Room: Image count = 1, Prompt count = 1, Difference = 0\n",
      "Common Room: Image count = 1, Prompt count = 1, Difference = 0\n",
      "Kitchen: Image count = 1, Prompt count = 1, Difference = 0\n",
      "Bathroom: Image count = 2, Prompt count = 1, Difference = 1\n",
      "Master Room: Image count = 1, Prompt count = 1, Difference = 0\n",
      "Balcony: Image count = 2, Prompt count = 1, Difference = 1\n",
      "Storage Room: Image count = 0, Prompt count = 0, Difference = 0\n",
      "\n",
      "Image: generated_image_6.png\n",
      "Living Room: Image count = 1, Prompt count = 1, Difference = 0\n",
      "Common Room: Image count = 2, Prompt count = 1, Difference = 1\n",
      "Kitchen: Image count = 1, Prompt count = 1, Difference = 0\n",
      "Bathroom: Image count = 1, Prompt count = 1, Difference = 0\n",
      "Master Room: Image count = 1, Prompt count = 1, Difference = 0\n",
      "Balcony: Image count = 1, Prompt count = 1, Difference = 0\n",
      "Storage Room: Image count = 0, Prompt count = 0, Difference = 0\n",
      "\n",
      "Image: generated_image_7.png\n",
      "Living Room: Image count = 1, Prompt count = 1, Difference = 0\n",
      "Common Room: Image count = 2, Prompt count = 1, Difference = 1\n",
      "Kitchen: Image count = 1, Prompt count = 1, Difference = 0\n",
      "Bathroom: Image count = 1, Prompt count = 1, Difference = 0\n",
      "Master Room: Image count = 1, Prompt count = 1, Difference = 0\n",
      "Balcony: Image count = 1, Prompt count = 1, Difference = 0\n",
      "Storage Room: Image count = 0, Prompt count = 0, Difference = 0\n",
      "\n",
      "Image: generated_image_8.png\n",
      "Living Room: Image count = 1, Prompt count = 1, Difference = 0\n",
      "Common Room: Image count = 2, Prompt count = 1, Difference = 1\n",
      "Kitchen: Image count = 1, Prompt count = 1, Difference = 0\n",
      "Bathroom: Image count = 1, Prompt count = 1, Difference = 0\n",
      "Master Room: Image count = 1, Prompt count = 1, Difference = 0\n",
      "Balcony: Image count = 1, Prompt count = 1, Difference = 0\n",
      "Storage Room: Image count = 0, Prompt count = 0, Difference = 0\n",
      "\n",
      "Image: generated_image_9.png\n",
      "Living Room: Image count = 1, Prompt count = 1, Difference = 0\n",
      "Common Room: Image count = 3, Prompt count = 1, Difference = 2\n",
      "Kitchen: Image count = 2, Prompt count = 1, Difference = 1\n",
      "Bathroom: Image count = 1, Prompt count = 1, Difference = 0\n",
      "Master Room: Image count = 1, Prompt count = 1, Difference = 0\n",
      "Balcony: Image count = 2, Prompt count = 1, Difference = 1\n",
      "Storage Room: Image count = 0, Prompt count = 0, Difference = 0\n",
      "\n",
      "Image: generated_image_10.png\n",
      "Living Room: Image count = 1, Prompt count = 1, Difference = 0\n",
      "Common Room: Image count = 2, Prompt count = 1, Difference = 1\n",
      "Kitchen: Image count = 1, Prompt count = 1, Difference = 0\n",
      "Bathroom: Image count = 2, Prompt count = 1, Difference = 1\n",
      "Master Room: Image count = 1, Prompt count = 1, Difference = 0\n",
      "Balcony: Image count = 1, Prompt count = 1, Difference = 0\n",
      "Storage Room: Image count = 0, Prompt count = 0, Difference = 0\n",
      "+++++++++++++++++++++++++++++++\n",
      "[('generated_image_1.png', 1), ('generated_image_2.png', 2), ('generated_image_3.png', 1), ('generated_image_4.png', 1), ('generated_image_5.png', 2), ('generated_image_6.png', 1), ('generated_image_7.png', 1), ('generated_image_8.png', 1), ('generated_image_9.png', 4), ('generated_image_10.png', 2)]\n",
      "+++++++++++++++++++++++++++++++\n",
      "\n",
      "Selected Images with Loss ≤ 2:\n",
      "generated_image_1.png: Loss = 1\n",
      "generated_image_3.png: Loss = 1\n",
      "generated_image_4.png: Loss = 1\n"
     ]
    }
   ],
   "source": [
    "# Create Gradio API\n",
    "app = gr.Interface(fn=generate_image, inputs=\"text\", outputs=\"gallery\")\n",
    "\n",
    "# Run the API on port 7860\n",
    "app.launch(server_name=\"0.0.0.0\", server_port=7881, share=True)"
   ]
  },
  {
   "cell_type": "code",
   "execution_count": null,
   "id": "62dc74ab",
   "metadata": {},
   "outputs": [],
   "source": []
  },
  {
   "cell_type": "code",
   "execution_count": null,
   "id": "1f9ec273",
   "metadata": {},
   "outputs": [],
   "source": []
  }
 ],
 "metadata": {
  "kernelspec": {
   "display_name": "Python 3 (ipykernel)",
   "language": "python",
   "name": "python3"
  },
  "language_info": {
   "codemirror_mode": {
    "name": "ipython",
    "version": 3
   },
   "file_extension": ".py",
   "mimetype": "text/x-python",
   "name": "python",
   "nbconvert_exporter": "python",
   "pygments_lexer": "ipython3",
   "version": "3.10.12"
  }
 },
 "nbformat": 4,
 "nbformat_minor": 5
}
